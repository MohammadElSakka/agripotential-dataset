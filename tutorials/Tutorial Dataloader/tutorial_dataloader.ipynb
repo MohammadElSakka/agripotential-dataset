{
 "cells": [
  {
   "cell_type": "markdown",
   "id": "a1b396d6-a1e2-4b3b-80e0-b711e15d4212",
   "metadata": {},
   "source": [
    "# PyTorch Dataset and DataLoader\n",
    "\n",
    "In this notebook, we show an example of how to iteratively access the data in PyTorch style.  \n",
    "By default, the dataset is one-hot encoded, below we show a how to make a flexible dataloader that provides different label formats.  \n",
    "Specifically, we show 3 formats:  \n",
    "\n",
    "- one-hot (default): ideal for classification tasks\n",
    "- scalar: a single value, useful for regression tasks\n",
    "- ordinal: a binary ordinal encoding that can be used in an ordinal regression context\n",
    "\n",
    " Label encoding table:\n",
    " ```\n",
    "                    Scalar | Ordinal |  One-hot  |  Description\n",
    "                        0  | 0 0 0 0 | 1 0 0 0 0 |  Very low\n",
    "                        1  | 1 0 0 0 | 0 1 0 0 0 |  Low\n",
    "                        2  | 1 1 0 0 | 0 0 1 0 0 |  Average\n",
    "                        3  | 1 1 1 0 | 0 0 0 1 0 |  High\n",
    "                        4  | 1 1 1 1 | 0 0 0 0 1 |  Very high\n",
    "```"
   ]
  },
  {
   "cell_type": "code",
   "execution_count": 5,
   "id": "87946165-4934-4f4f-9990-d250e261bfce",
   "metadata": {},
   "outputs": [],
   "source": [
    "import h5py\n",
    "import numpy as np\n",
    "from tqdm import tqdm\n",
    "\n",
    "import torch\n",
    "from torch.utils.data import Dataset, DataLoader\n",
    "\n",
    "label_names = {0:\"very low\", 1:\"low\", 2:\"average\", 3:\"high\", 4:\"very high\"}"
   ]
  },
  {
   "cell_type": "code",
   "execution_count": 24,
   "id": "f52e6257-8aa2-4f9d-a780-40fcbbd8df17",
   "metadata": {},
   "outputs": [],
   "source": [
    "\n",
    "class PotentialDataset(Dataset):\n",
    "    \"\"\"\n",
    "    Multi-temporal-spectral Dataset\n",
    "    \n",
    "    Parameters:\n",
    "        data_path (str): h5 file path of the dataset.\n",
    "        label_name (str): label name  (potential name: {viticulture, field, market}) \n",
    "                        \n",
    "        mode (str): Specifies the dataset mode. Possible values are:\n",
    "                    - \"train\": Use training data\n",
    "                    - \"val\": Use validation data\n",
    "                    - \"test\": Use test data\n",
    "                    Default is \"train\"\n",
    "\n",
    "        label_format (str): Specifies the format of the labels. Options include:\n",
    "                    - \"scalar\": single-channel scalar values\n",
    "                    - \"ordinal\": 4-channel ordinal encoding\n",
    "                    - \"one-hot\": 5-channel one-hot encoded labels\n",
    "                    Label encoding table:\n",
    "                    Scalar | Ordinal |  One-hot  |  Description\n",
    "                        0  | 0 0 0 0 | 1 0 0 0 0 |  Very low\n",
    "                        1  | 1 0 0 0 | 0 1 0 0 0 |  Low\n",
    "                        2  | 1 1 0 0 | 0 0 1 0 0 |  Average\n",
    "                        3  | 1 1 1 0 | 0 0 0 1 0 |  High\n",
    "                        4  | 1 1 1 1 | 0 0 0 0 1 |  Very high\n",
    "                    Default is \"one-hot\"\n",
    "    \"\"\"\n",
    "    def __init__(self, data_path, label_name, label_format=\"one-hot\",  mode=\"train\"):\n",
    "        assert mode in [\"train\", \"val\", \"test\"], \"mode: specifies the dataset mode. Possible values are: train, val, test.\"\n",
    "        self.data_path = data_path\n",
    "        self.mode = mode\n",
    "        self.label_format = label_format\n",
    "        self.label_name = label_name\n",
    "        \n",
    "        with h5py.File(self.data_path, 'r') as dataset:\n",
    "            self.dataset_size = dataset[self.mode][\"labels\"][self.label_name].shape[0]\n",
    "            self.timestamps = sorted(list(dataset[self.mode][\"sentinel2\"].keys()))\n",
    "            self.n_channels = dataset[self.mode][\"sentinel2\"][self.timestamps[0]].shape[1]\n",
    "            self.patch_size = dataset[self.mode][\"sentinel2\"][self.timestamps[0]].shape[2]\n",
    "            \n",
    "    def __len__(self):\n",
    "        return self.dataset_size\n",
    "        \n",
    "    def __getitem__(self, idx):\n",
    "        \"\"\"\n",
    "        Retrieves a time series of 11 Sentinel-2 images and the corresponding labels for a given index\n",
    "\n",
    "        Returns:\n",
    "            masks: Tensor of shape (H, W) that represents a binary mask of labelled pixels (1) and ignore labels (0)\n",
    "            inputs: Tensor of shape (T, C, H, W), where:\n",
    "                - T is the number of timestamps\n",
    "                - C is the number of spectral channels\n",
    "                - H and W are the spatial dimensions\n",
    "            labels: Tensor of shape (X, H, W) corresponding to the encoding of the ground truth where\n",
    "                    X depends on self.label_format\n",
    "        \"\"\"\n",
    "        with h5py.File(self.data_path, 'r') as dataset:\n",
    "            inputs = np.zeros((len(self.timestamps), self.n_channels, self.patch_size, self.patch_size))\n",
    "            for i in range(len(self.timestamps)):\n",
    "                inputs[i] = dataset[self.mode][\"sentinel2\"][self.timestamps[i]][idx]\n",
    "\n",
    "            labels =  dataset[self.mode][\"labels\"][self.label_name][idx]\n",
    "            labels = np.transpose(labels, (2, 0, 1))\n",
    "\n",
    "            inputs = torch.tensor(inputs)\n",
    "            labels = torch.tensor(labels)\n",
    "\n",
    "            inputs = inputs.to(torch.float32)\n",
    "            masks = torch.sum(labels, 0)\n",
    "\n",
    "            if self.label_format == \"one-hot\":\n",
    "                    pass # By default the dataset has labels encoded in one-hot format\n",
    "            elif self.label_format == \"scalar\":\n",
    "                    labels = torch.argmax(labels, 0).to(torch.float32)\n",
    "            elif self.label_format ==  \"ordinal\":\n",
    "                    class_idx = torch.argmax(labels, 0)\n",
    "                    num_classes = 5\n",
    "                    thresholds = torch.arange(1, num_classes)\n",
    "                    labels = (class_idx >= thresholds.view(-1, 1, 1)).float()\n",
    "            else:\n",
    "                 raise ValueError(f\"Invalid label encoding format: {self.label_format}\")\n",
    "            \n",
    "        return masks, inputs, labels"
   ]
  },
  {
   "cell_type": "markdown",
   "id": "e3dbf412-10ea-4ddf-a2d3-d03a387883a3",
   "metadata": {},
   "source": [
    "## Let's give it a try\n",
    "\n",
    "### one-hot"
   ]
  },
  {
   "cell_type": "code",
   "execution_count": null,
   "id": "a7d5745a-0887-4684-bbd8-a8b29611cb41",
   "metadata": {},
   "outputs": [
    {
     "name": "stdout",
     "output_type": "stream",
     "text": [
      "torch.Size([1, 128, 128]) torch.Size([1, 11, 10, 128, 128]) torch.Size([1, 5, 128, 128])\n",
      "Converting one-hot encoded labels to actual class names:\n",
      "torch.Size([1, 128, 128])\n",
      "\n",
      "Label value is 4, which corresponds to: very high\n"
     ]
    }
   ],
   "source": [
    "onehot_dataset = PotentialDataset(\n",
    "    data_path = ,# your data path\n",
    "    label_name = \"viticulture\",\n",
    "    label_format = \"one-hot\",\n",
    "    mode = \"test\"\n",
    ")\n",
    "\n",
    "onehot_dataloader = DataLoader(onehot_dataset, batch_size=1, shuffle=False)\n",
    "\n",
    "masks, inputs, labels = next(iter(onehot_dataloader))\n",
    "\n",
    "print(masks.shape, inputs.shape, labels.shape)\n",
    "print(\"Converting one-hot encoded labels to actual class names:\")\n",
    "\n",
    "labels = torch.argmax(labels, axis=1)\n",
    "print(labels.shape)\n",
    "print()\n",
    "\n",
    "print(f\"Label value is {int(labels[0,13,13])}, which corresponds to: {label_names[int(labels[0,13,13])]}\")\n"
   ]
  },
  {
   "cell_type": "markdown",
   "id": "51fb0fec-9ab5-4cd2-a1fe-23f0d8b57869",
   "metadata": {},
   "source": [
    "### scalar"
   ]
  },
  {
   "cell_type": "code",
   "execution_count": 25,
   "id": "4e8ce747-4e06-4c08-8f66-ca668995d7b6",
   "metadata": {},
   "outputs": [
    {
     "name": "stdout",
     "output_type": "stream",
     "text": [
      "torch.Size([1, 128, 128]) torch.Size([1, 11, 10, 128, 128]) torch.Size([1, 128, 128])\n",
      "Converting scalar encoded labels to actual class names:\n",
      "\n",
      "Label value is 4, which corresponds to: very high\n"
     ]
    }
   ],
   "source": [
    "scalar_dataset = PotentialDataset(\n",
    "    data_path = \"/srv/storage/mgarouanprojects@storage2.nancy.grid5000.fr/moelsakka/agri-potential-dataset/dataset.h5\",\n",
    "    label_name = \"viticulture\",\n",
    "    label_format = \"scalar\",\n",
    "    mode = \"test\"\n",
    ")\n",
    "\n",
    "scalar_dataloader = DataLoader(scalar_dataset, batch_size=1, shuffle=False)\n",
    "\n",
    "masks, inputs, labels = next(iter(scalar_dataloader))\n",
    "\n",
    "print(masks.shape, inputs.shape, labels.shape)\n",
    "print(\"Converting scalar encoded labels to actual class names:\")\n",
    "print()\n",
    "\n",
    "print(f\"Label value is {int(labels[0,13,13])}, which corresponds to: {label_names[int(labels[0,13,13])]}\")\n"
   ]
  },
  {
   "cell_type": "markdown",
   "id": "5f85d99d-3a4c-481f-adff-7bc3bdb72e75",
   "metadata": {},
   "source": [
    "### Ordinal"
   ]
  },
  {
   "cell_type": "code",
   "execution_count": 27,
   "id": "2018fcba-aff1-41c3-a9a8-99618eb5aa3f",
   "metadata": {},
   "outputs": [
    {
     "name": "stdout",
     "output_type": "stream",
     "text": [
      "torch.Size([1, 128, 128]) torch.Size([1, 11, 10, 128, 128]) torch.Size([1, 4, 128, 128])\n",
      "Converting ordinal encoded labels to actual class names:\n",
      "\n",
      "Label value is 4, which corresponds to: very high\n"
     ]
    }
   ],
   "source": [
    "ordinal_dataset = PotentialDataset(\n",
    "    data_path = \"/srv/storage/mgarouanprojects@storage2.nancy.grid5000.fr/moelsakka/agri-potential-dataset/dataset.h5\",\n",
    "    label_name = \"viticulture\",\n",
    "    label_format = \"ordinal\",\n",
    "    mode = \"test\"\n",
    ")\n",
    "\n",
    "scalar_dataloader = DataLoader(ordinal_dataset, batch_size=1, shuffle=False)\n",
    "\n",
    "masks, inputs, labels = next(iter(scalar_dataloader))\n",
    "\n",
    "print(masks.shape, inputs.shape, labels.shape)\n",
    "print(\"Converting ordinal encoded labels to actual class names:\")\n",
    "print()\n",
    "labels = torch.sum(labels, axis=1) \n",
    "print(f\"Label value is {int(labels[0,13,13])}, which corresponds to: {label_names[int(labels[0,13,13])]}\")\n"
   ]
  },
  {
   "cell_type": "markdown",
   "id": "4d5ccab7-494a-4d6c-8e49-d020f20fd548",
   "metadata": {},
   "source": [
    "## You reach the end. Now you've got a flexible dataloader that is suitable for 3 machine learning tasks. \n",
    "## More formats can of course be derived"
   ]
  }
 ],
 "metadata": {
  "kernelspec": {
   "display_name": "agrivenv",
   "language": "python",
   "name": "agrivenv"
  },
  "language_info": {
   "codemirror_mode": {
    "name": "ipython",
    "version": 3
   },
   "file_extension": ".py",
   "mimetype": "text/x-python",
   "name": "python",
   "nbconvert_exporter": "python",
   "pygments_lexer": "ipython3",
   "version": "3.9.2"
  }
 },
 "nbformat": 4,
 "nbformat_minor": 5
}
