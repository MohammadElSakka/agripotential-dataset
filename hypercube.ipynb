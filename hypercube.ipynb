{
 "cells": [
  {
   "cell_type": "code",
   "execution_count": 1,
   "metadata": {},
   "outputs": [],
   "source": [
    "from scripts.paths import elevation_path,sentinel_data_path,mask_path\n",
    "import rasterio\n",
    "import numpy as np\n",
    "from rasterio.mask import geometry_mask\n",
    "from rasterio.warp import calculate_default_transform, reproject, Resampling\n",
    "import os \n",
    "import geopandas as gpd\n",
    "import h5py\n",
    "import json"
   ]
  },
  {
   "cell_type": "code",
   "execution_count": 2,
   "metadata": {},
   "outputs": [],
   "source": [
    "# Create a nested dictionary to store the opened raster data for each band of each month in 2019\n",
    "bands_data_2019 = {\n",
    "    month: {\n",
    "        band: rasterio.open(sentinel_data_path[2019][month][band]).read(1).astype('int16')\n",
    "        for band in sentinel_data_path[2019][month]\n",
    "    }\n",
    "    for month in sentinel_data_path[2019]\n",
    "}"
   ]
  },
  {
   "cell_type": "code",
   "execution_count": 3,
   "metadata": {},
   "outputs": [],
   "source": [
    "# Load metadata\n",
    "meta = rasterio.open(sentinel_data_path[2019][1]['B02']).meta\n",
    "\n",
    "#serialize in json \n",
    "meta_serialized = json.dumps({\n",
    "    'driver': meta['driver'],\n",
    "    'dtype': meta['dtype'],\n",
    "    'nodata': meta['nodata'],\n",
    "    'width': meta['width'],\n",
    "    'height': meta['height'],\n",
    "    'count': meta['count'],\n",
    "    'crs': str(meta['crs']),  # Convert the CRS object to a string\n",
    "    'transform': str(meta['transform'])  # Convert the Affine object to a string\n",
    "}) "
   ]
  },
  {
   "cell_type": "code",
   "execution_count": 4,
   "metadata": {},
   "outputs": [
    {
     "name": "stdout",
     "output_type": "stream",
     "text": [
      "loaded\n"
     ]
    }
   ],
   "source": [
    "#load mask\n",
    "if os.path.isfile(mask_path): \n",
    "    mask = rasterio.open(mask_path).read(1).astype(bool)"
   ]
  },
  {
   "cell_type": "code",
   "execution_count": 5,
   "metadata": {},
   "outputs": [],
   "source": [
    "# Resample altitude data to match the other bands\n",
    "with rasterio.open(elevation_path) as src:\n",
    "    altitude_resampled = np.zeros((meta['height'], meta['width']), np.float32)\n",
    "\n",
    "    reproject(\n",
    "        source=rasterio.band(src, 1),\n",
    "        destination=altitude_resampled,\n",
    "        src_transform=src.transform,\n",
    "        src_crs=src.crs,\n",
    "        dst_transform=meta['transform'],\n",
    "        dst_crs=meta['crs'],\n",
    "        resampling=Resampling.nearest)"
   ]
  },
  {
   "cell_type": "code",
   "execution_count": 6,
   "metadata": {},
   "outputs": [],
   "source": [
    "# Determine the shape of the bands\n",
    "height, width = next(iter(next(iter(bands_data_2019.values())).values())).shape  # Shape of the bands\n",
    "bands_per_month = len(next(iter(bands_data_2019.values())))  # Number of original bands per month\n",
    "\n",
    "total_bands = bands_per_month +1\n"
   ]
  },
  {
   "cell_type": "code",
   "execution_count": 9,
   "metadata": {},
   "outputs": [
    {
     "name": "stderr",
     "output_type": "stream",
     "text": [
      "C:\\Users\\leoma\\AppData\\Local\\Temp\\ipykernel_20116\\4044068890.py:15: RuntimeWarning: invalid value encountered in divide\n",
      "  ndvi = (nir - red) / (nir + red)\n"
     ]
    },
    {
     "name": "stdout",
     "output_type": "stream",
     "text": [
      "1 /12\n",
      "2 /12\n",
      "3 /12\n",
      "4 /12\n",
      "5 /12\n",
      "6 /12\n",
      "7 /12\n",
      "8 /12\n",
      "9 /12\n",
      "10 /12\n",
      "11 /12\n",
      "12 /12\n"
     ]
    }
   ],
   "source": [
    "# Create an HDF5 file and store data in it\n",
    "with h5py.File('hypercube.h5', 'w') as hdf_file:\n",
    "    for month_idx, (month, bands_dict) in enumerate(bands_data_2019.items()):\n",
    "        # Create a 3D array for the current month\n",
    "        monthly_values = np.full((height, width, total_bands), np.nan)\n",
    "        \n",
    "        # Fill the monthly array with band data and calculate NDVI\n",
    "        for band_idx, (band_name, band_data) in enumerate(bands_dict.items()):\n",
    "            monthly_values[:, :, band_idx][mask] = band_data[mask]\n",
    "            monthly_values[:, :, band_idx][~mask] = np.nan\n",
    "        \n",
    "        # Calculate NDVI\n",
    "        red = bands_dict['B04']\n",
    "        nir = bands_dict['B08']\n",
    "        ndvi = (nir - red) / (nir + red)\n",
    "        monthly_values[:, :, bands_per_month][mask] = ndvi[mask]\n",
    "\n",
    "        # Store the 3D array for the current month in the HDF5 file\n",
    "        hdf_file.create_dataset(f'month_{month_idx+1}', data=monthly_values, compression='gzip', compression_opts=9)\n",
    "        print(f\"{month} /12\")\n",
    "    # Store altitude and mask separately (these are 2D arrays)\n",
    "    hdf_file.create_dataset('altitude', data=altitude_resampled, compression='gzip', compression_opts=9)\n",
    "    hdf_file.create_dataset('mask', data=mask.astype(bool), compression='gzip', compression_opts=9)\n",
    "    hdf_file.attrs['meta'] = meta_serialized "
   ]
  }
 ],
 "metadata": {
  "kernelspec": {
   "display_name": "Python 3",
   "language": "python",
   "name": "python3"
  },
  "language_info": {
   "codemirror_mode": {
    "name": "ipython",
    "version": 3
   },
   "file_extension": ".py",
   "mimetype": "text/x-python",
   "name": "python",
   "nbconvert_exporter": "python",
   "pygments_lexer": "ipython3",
   "version": "3.11.9"
  }
 },
 "nbformat": 4,
 "nbformat_minor": 2
}
