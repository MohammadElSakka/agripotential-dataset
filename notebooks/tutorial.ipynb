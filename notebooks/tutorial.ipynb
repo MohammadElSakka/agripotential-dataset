{
 "cells": [
  {
   "cell_type": "markdown",
   "metadata": {},
   "source": [
    "# 0) Imports and functions\n"
   ]
  },
  {
   "cell_type": "code",
   "execution_count": null,
   "metadata": {},
   "outputs": [],
   "source": [
    "from PIL import Image\n",
    "import numpy as np\n",
    "from rasterio import rasterio\n",
    "import pandas as pd\n",
    "\n",
    "from matplotlib.colorbar import ColorbarBase\n",
    "import matplotlib.pyplot as plt\n",
    "from matplotlib.colors import ListedColormap, BoundaryNorm, Normalize\n",
    "\n",
    "import warnings\n",
    "warnings.filterwarnings(\"ignore\", category=rasterio.errors.NotGeoreferencedWarning)\n"
   ]
  },
  {
   "cell_type": "code",
   "execution_count": null,
   "metadata": {},
   "outputs": [],
   "source": [
    "def display(data, title=\"\", axis=\"off\", colorbar=False):\n",
    "    plt.imshow(data, interpolation=\"nearest\")\n",
    "    plt.title(title)\n",
    "    plt.axis(axis)\n",
    "    if colorbar:\n",
    "        plt.colorbar()\n",
    "    plt.show()    "
   ]
  },
  {
   "cell_type": "markdown",
   "metadata": {},
   "source": [
    "# 1) Archive content \n",
    "After extracting the dataset archive **(dataset.zip)** the following files should be available:  \n",
    "```\n",
    "binary_mask.png\t\tsentinel2_2019_1.tif  sentinel2_2019_7.tif  \n",
    "elevation.tif\t\tsentinel2_2019_2.tif  sentinel2_2019_8.tif  \n",
    "gc_potential.tif\tsentinel2_2019_3.tif  sentinel2_2019_9.tif  \n",
    "ma_potential.tif\tsentinel2_2019_4.tif  vit_potential.tif  \n",
    "pixels_to_stations.npy\tsentinel2_2019_5.tif  weather_data.csv  \n",
    "sentinel2_2019_10.tif\tsentinel2_2019_6.tif\n",
    "```\n",
    "\n"
   ]
  },
  {
   "cell_type": "code",
   "execution_count": null,
   "metadata": {},
   "outputs": [],
   "source": [
    "dataset_path = \"../data/dataset/\"\n",
    "output_path = \"./\"\n",
    "\n",
    "!ls $dataset_path\n"
   ]
  },
  {
   "cell_type": "markdown",
   "metadata": {},
   "source": [
    "# 2) Binary Mask:\n",
    "A binary mask is provided to determine the pixels that are considered in the study\n"
   ]
  },
  {
   "cell_type": "code",
   "execution_count": null,
   "metadata": {},
   "outputs": [],
   "source": [
    "binary_mask_path = dataset_path+\"binary_mask.png\"\n",
    "binary_mask = np.array(Image.open(binary_mask_path))\n",
    "display(binary_mask)"
   ]
  },
  {
   "cell_type": "markdown",
   "metadata": {},
   "source": [
    "## INFO\n",
    "Given that a big region of the mask is unused, we will crop it in order to save some memory.  \n",
    "By using the following function we can compute the coordinates of the boundaries of the mask.  \n",
    "Experimentally, we determine that the **(up, down, left, right)** boundaries are **(3321, 10979, 0, 9401)**  \n",
    "Therefore all following images (e.g. sentinel, labels) will be cropped according to these boundaries.\n"
   ]
  },
  {
   "cell_type": "code",
   "execution_count": null,
   "metadata": {},
   "outputs": [],
   "source": [
    "def compute_boundaries(binary_mask) -> tuple[int, int, int, int]:\n",
    "    up, down, left, right = -1, -1, 1e8, -1\n",
    "    last_down = 0\n",
    "    for i in range(binary_mask.shape[0]):\n",
    "        for j in range(binary_mask.shape[1]):\n",
    "            if binary_mask[i][j] == 1 and up == -1:\n",
    "                up = i\n",
    "            if binary_mask[i][j] == 1 and last_down == 0 and i != down:\n",
    "                down = i\n",
    "            if binary_mask[i][j] == 1 and j<left:\n",
    "                left = j\n",
    "            if binary_mask[i][j] == 1 and j>right:\n",
    "                right = j\n",
    "            last_down = binary_mask[i][j]\n",
    "    # Will return 3321 10979 0 9401\n",
    "    return up, down, left, right"
   ]
  },
  {
   "cell_type": "code",
   "execution_count": null,
   "metadata": {},
   "outputs": [],
   "source": [
    "up, down, left, right =  3321, 10979, 0, 9401"
   ]
  },
  {
   "cell_type": "code",
   "execution_count": null,
   "metadata": {},
   "outputs": [],
   "source": [
    "binary_mask = binary_mask[up:down+1, left:right+1]\n",
    "display(binary_mask)"
   ]
  },
  {
   "cell_type": "markdown",
   "metadata": {},
   "source": [
    "## INFO\n",
    "Get pixel coordinates that are mapped"
   ]
  },
  {
   "cell_type": "code",
   "execution_count": null,
   "metadata": {},
   "outputs": [],
   "source": [
    "valid_indexes = np.argwhere(binary_mask == 1)\n",
    "print(valid_indexes.shape)"
   ]
  },
  {
   "cell_type": "markdown",
   "metadata": {},
   "source": [
    "# 3) Labels\n",
    "3 types of labels are provided:\n",
    "- viticulture\n",
    "- field crops (grandes cultures)\n",
    "- market crops (maraîchages)\n",
    "\n",
    "Given that labels have 5 intensities (very limited, limited, moderate, high, very high), the files are in 5-channel Tif files in a one-hot encoding categorical format\n",
    "  "
   ]
  },
  {
   "cell_type": "markdown",
   "metadata": {},
   "source": [
    "## Example on viticulture"
   ]
  },
  {
   "cell_type": "code",
   "execution_count": null,
   "metadata": {},
   "outputs": [],
   "source": [
    "viticulture_path = dataset_path+\"vit_potential.tif\"\n",
    "# field_crops_path = dataset_path+\"gc_potential.tif\"\n",
    "# market_crops_path = dataset_path+\"ma_potential.tif\"\n",
    "\n",
    "viticulture_data = rasterio.open(viticulture_path)\n",
    "print(f\"Channels: {viticulture_data.count}\")\n",
    "print(f\"Dimensions: {viticulture_data.height}x{viticulture_data.width}\")\n",
    "\n",
    "viticulture_labels = viticulture_data.read()\n",
    "print(viticulture_labels.shape)\n",
    "\n",
    "display(viticulture_labels[0,:,:][up:down+1, left:right+1], title=\"Very limited (viticulture)\")\n"
   ]
  },
  {
   "cell_type": "markdown",
   "metadata": {},
   "source": [
    "## Displaying categorical labels on 1 plot \n",
    "### Example on viticulture"
   ]
  },
  {
   "cell_type": "code",
   "execution_count": null,
   "metadata": {},
   "outputs": [],
   "source": [
    "viticulture_labels = viticulture_data.read()\n",
    "viticulture_labels = np.transpose(viticulture_labels, (1,2,0)) # h.w.c\n",
    "viticulture_labels = np.argmax(viticulture_labels, axis=-1)[up:down+1, left:right+1]\n",
    "viticulture_labels = np.where(binary_mask, viticulture_labels, np.nan) # We use the binary mask to not include other pixels in labels\n",
    "viticulture_labels = viticulture_labels\n",
    "print(viticulture_labels.shape)\n"
   ]
  },
  {
   "cell_type": "code",
   "execution_count": null,
   "metadata": {},
   "outputs": [],
   "source": [
    "colors = [\"red\", \"orange\", \"yellow\", \"lightgreen\", \"green\"]\n",
    "labels = [\"Very limited\", \"Limited\", \"Moderate\", \"High\", \"Very high\"]\n",
    "cmap = ListedColormap(colors)\n",
    "bounds = np.linspace(0, 5, 6)\n",
    "norm = BoundaryNorm(bounds, cmap.N)\n",
    "fig = plt.figure()\n",
    "plt.imshow(viticulture_labels, cmap=cmap, norm=norm, interpolation=\"nearest\")\n",
    "plt.axis(\"off\")\n",
    "ax = fig.add_axes([0.9, 0.25, 0.1, 0.5])\n",
    "colorbar = ColorbarBase(ax, orientation='vertical',cmap=cmap, norm=norm)\n",
    "colorbar.set_ticks(np.arange(0.5, 5.5))\n",
    "colorbar.set_ticklabels(labels, fontsize=8)\n",
    "plt.show()"
   ]
  },
  {
   "cell_type": "markdown",
   "metadata": {},
   "source": [
    "# 4) Elevation\n",
    "Elevation data is a 1D array saved as a Tif file"
   ]
  },
  {
   "cell_type": "code",
   "execution_count": null,
   "metadata": {},
   "outputs": [],
   "source": [
    "elevation_data_path = dataset_path+\"elevation.tif\"\n",
    "elevation_data = rasterio.open(elevation_data_path)\n",
    "print(f\"Channels: {elevation_data.count}\")\n",
    "elevation = elevation_data.read(1)[up:down+1, left:right+1]\n",
    "elevation = np.where(binary_mask, elevation, np.nan)\n",
    "display(elevation, title=\"Elevation in meters\", colorbar=True)"
   ]
  },
  {
   "cell_type": "markdown",
   "metadata": {},
   "source": [
    "# Sentinel-2\n",
    "There are 10 sentinel-2 images across the year 2019. Those are the available images that have low cloud coverage (<2%).  \n",
    "Each S2 image is saved in a file: **sentinel2_2019_{ID}.tif** where **ID** is a number between 1 and 10 (January - October).  \n",
    "Each S2 image has 4 channels (bands), resp. Blue (B02), Green (B03), Red (B04), Near Infared (B08), at 10m/pixel resolution.    \n",
    "The values found in each channel correspond to the reflectance recorded by the satellite instruments, and thus, is not a value between 0 and 255, so for **visualization**, these values need to be normalized first.\n",
    "Quick-ref on Sentinel-2:  \n",
    "https://gisgeography.com/sentinel-2-bands-combinations/\n"
   ]
  },
  {
   "cell_type": "markdown",
   "metadata": {},
   "source": [
    "## Example on an image from March 2019"
   ]
  },
  {
   "cell_type": "code",
   "execution_count": null,
   "metadata": {},
   "outputs": [],
   "source": [
    "s2_data_path = dataset_path+\"sentinel2_2019_1.tif\"\n",
    "s2_data = rasterio.open(s2_data_path)\n",
    "print(f\"Channels: {s2_data.count}\")"
   ]
  },
  {
   "cell_type": "code",
   "execution_count": null,
   "metadata": {},
   "outputs": [],
   "source": [
    "band_names = [\"Blue (B02)\", \"Green (B03)\", \"Red (B04)\", \"NIR (B08)\"]\n",
    "s2_image = s2_data.read()\n",
    "for i in range(s2_image.shape[0]):\n",
    "    display(s2_image[i,:,:], title=band_names[i], colorbar=True)\n",
    "    break"
   ]
  },
  {
   "cell_type": "markdown",
   "metadata": {},
   "source": [
    "## After normalization"
   ]
  },
  {
   "cell_type": "code",
   "execution_count": null,
   "metadata": {},
   "outputs": [],
   "source": [
    "def brighten(data: np.ndarray) -> np.ndarray:\n",
    "    alpha=0.08\n",
    "    beta=0\n",
    "    return np.clip(alpha*data+beta, 0,255)\n",
    "\n",
    "def normalize(data: np.ndarray) -> np.ndarray:\n",
    "    data_min, data_max = (data.min(), data.max())\n",
    "    return ((data-data_min)/((data_max - data_min)))\n",
    "\n",
    "band_names = [\"Blue (B02)\", \"Green (B03)\", \"Red (B04)\", \"NIR (B08)\"]\n",
    "s2_image = s2_data.read()\n",
    "for i in range(s2_image.shape[0]):\n",
    "    display(normalize(brighten(s2_image[i,:,:])), title=band_names[i], colorbar=True)\n",
    "    break\n",
    "    "
   ]
  },
  {
   "cell_type": "markdown",
   "metadata": {},
   "source": [
    "## We can also construct a color image from the channels R G B"
   ]
  },
  {
   "cell_type": "code",
   "execution_count": null,
   "metadata": {},
   "outputs": [],
   "source": [
    "r = normalize(brighten(s2_data.read(3)))[up:down+1, left:right+1]\n",
    "g = normalize(brighten(s2_data.read(2)))[up:down+1, left:right+1]\n",
    "b = normalize(brighten(s2_data.read(1)))[up:down+1, left:right+1]\n",
    "\n",
    "rgb = np.dstack([r,g,b])\n",
    "display(rgb)"
   ]
  },
  {
   "cell_type": "markdown",
   "metadata": {},
   "source": [
    "# Weather data  \n",
    "\n",
    "In the department of Herault, we chose 15 weather stations depending on the availability of data. \n",
    "The recorded data includes on a 10-day period basis:  \n",
    "- A distinct station ID, name, Lat, Lon\n",
    "- The average temperature in °C\n",
    "- The Max temperature in °C\n",
    "- The Min temperature in °C\n",
    "- Precipitation in mm\n",
    "- The date in YYYYMM_X format where X is {1,2,3} according to which 10-day period is recorded. For example, ```the period 10-20 of february 2019 has the date 201902_2```\n",
    "\n",
    "The data is available under a tabular format in a csv file.  \n",
    "A mapping of each pixel to the station that it belongs to is found in pixels_to_stations.npy  \n",
    "Tutorial below"
   ]
  },
  {
   "cell_type": "code",
   "execution_count": null,
   "metadata": {},
   "outputs": [],
   "source": [
    "weather_data_path = dataset_path+\"weather_data.csv\"\n",
    "weather_data = pd.read_csv(weather_data_path)\n",
    "weather_data"
   ]
  },
  {
   "cell_type": "code",
   "execution_count": null,
   "metadata": {},
   "outputs": [],
   "source": [
    "pixels_to_stations = np.load(dataset_path+\"pixels_to_stations.npy\")[0][up:down+1, left:right+1]\n",
    "print(pixels_to_stations.shape)\n",
    "display(pixels_to_stations, title=\"Pixels mapped to stations\")"
   ]
  },
  {
   "cell_type": "code",
   "execution_count": null,
   "metadata": {},
   "outputs": [],
   "source": [
    "print(f\"Station IDs: (0 for non mapped pixels) {np.unique(pixels_to_stations)} \")"
   ]
  },
  {
   "cell_type": "code",
   "execution_count": null,
   "metadata": {},
   "outputs": [],
   "source": [
    "np.random.seed(0)\n",
    "valid_indexes = np.argwhere(binary_mask == 1)\n",
    "random_pixel = valid_indexes[np.random.choice(valid_indexes.shape[0])]\n",
    "station_id = pixels_to_stations[random_pixel[0], random_pixel[1]]\n",
    "print(f\"Random pixel coordinates: {random_pixel} belongs to station {station_id}\")\n",
    "data = weather_data[weather_data[\"ID\"] == station_id]\n",
    "\n",
    "print(\"Weather data for this pixel over time:\")\n",
    "print(\"-------------------------------------\")\n",
    "print(f\"{'Date':<10} {'Temp':<10} {'MaxTemp':<10} {'MinTemp':<10} {'Prec':<10}\")\n",
    "for date, temp, max_temp, min_temp, precep in zip(data[\"Date\"], \n",
    "                                                data[\"Temperature\"],\n",
    "                                                data[\"Max Temperature\"],\n",
    "                                                data[\"Min Temperature\"],\n",
    "                                                data[\"Precipitation\"]):\n",
    "    print(f\"{date:<10} {temp:<10} {max_temp:<10} {min_temp:<10} {precep:<10}\")\n"
   ]
  }
 ],
 "metadata": {
  "kernelspec": {
   "display_name": "agri_venv",
   "language": "python",
   "name": "python3"
  },
  "language_info": {
   "codemirror_mode": {
    "name": "ipython",
    "version": 3
   },
   "file_extension": ".py",
   "mimetype": "text/x-python",
   "name": "python",
   "nbconvert_exporter": "python",
   "pygments_lexer": "ipython3",
   "version": "3.10.12"
  }
 },
 "nbformat": 4,
 "nbformat_minor": 4
}
